{
 "cells": [
  {
   "cell_type": "code",
   "execution_count": 31,
   "metadata": {},
   "outputs": [],
   "source": [
    "import jieba\n",
    "import gensim.models.word2vec as w2v\n",
    "from gensim import utils\n",
    "import os"
   ]
  },
  {
   "cell_type": "code",
   "execution_count": 70,
   "metadata": {},
   "outputs": [
    {
     "name": "stdout",
     "output_type": "stream",
     "text": [
      "['s01.txt', 's02.txt', 'section_07.txt', 'section_13.txt', 'section_12.txt', 'section_06.txt', 'section_10.txt', 'section_04.txt', 'section_05.txt', 'section_11.txt', 'section_15.txt', 'section_01.txt', 'section_29.txt', 'section_28.txt', 'section_14.txt', 'section_02.txt', 'section_16.txt', 'section_17.txt', 'section_03.txt', 'section_26.txt', 'section_32.txt', 'section_33.txt', 'section_27.txt', 'section_19.txt', 'section_31.txt', 'section_25.txt', 'section_24.txt', 'section_30.txt', 'section_18.txt', 'section_34.txt', 'section_20.txt', 'section_08.txt', 'section_09.txt', 'section_21.txt', 'section_35.txt', 'section_23.txt', 'section_36.txt', 'section_22.txt']\n"
     ]
    }
   ],
   "source": [
    "file_path = 'data/'\n",
    "doc_path='data/doc'\n",
    "\n",
    "dirs=os.listdir(file_path)\n",
    "ds=[]\n",
    "for d in dirs:\n",
    "    if d.endswith('txt'):\n",
    "        ds.append(d)\n",
    "        \n",
    "doc_arr=[]\n",
    "for f in ds:\n",
    "    with open(os.path.join(file_path,f), 'r') as fin:\n",
    "        c=' '.join(fin.readlines()).replace('\\n','')\n",
    "        doc_arr.append(c)\n",
    "\n",
    "fou = open(doc_path, 'w', encoding='UTF-8')\n",
    "for d in doc_arr:\n",
    "    print(d, file=fou)\n",
    "fou.close()\n",
    "\n",
    "print(ds)"
   ]
  },
  {
   "cell_type": "code",
   "execution_count": 88,
   "metadata": {},
   "outputs": [],
   "source": [
    "d = 100 # 向量维度"
   ]
  },
  {
   "cell_type": "markdown",
   "metadata": {},
   "source": [
    "- LineSentence"
   ]
  },
  {
   "cell_type": "code",
   "execution_count": 89,
   "metadata": {},
   "outputs": [
    {
     "name": "stdout",
     "output_type": "stream",
     "text": [
      "[ 0.20435181  0.31185323 -0.89981794  0.6871687   0.4463213   0.9409161\n",
      " -0.6359751  -0.35256577  0.3174465   0.8127272   0.43004712  0.1900037\n",
      " -1.0647717   0.45573202  0.17629194  0.79134774 -1.6501101   1.692306\n",
      " -1.6928177  -0.5639978   0.45122093  0.40180677  0.2843939  -1.2733852\n",
      " -1.4771372  -0.9589407   0.7041648  -1.3954809  -0.00856397  0.5104345\n",
      "  0.28552523  0.47229332 -1.2850845  -0.9334364  -0.8497095  -0.37813562\n",
      "  0.04418404  0.91215664 -0.83510727 -0.12695359 -0.01047259  1.1707823\n",
      "  0.05810078 -0.4834559   0.5072214   0.08223307  0.06791836 -1.3300273\n",
      "  1.0882916   0.7503512  -0.21050079  0.62495416 -1.3298349   0.52403885\n",
      "  0.19689178  0.33058465  0.11440168 -0.753182   -1.6234975  -1.6974006\n",
      "  0.6257925  -0.5056461   0.32521743 -1.4713275  -1.3970779   1.214276\n",
      "  1.9356774  -0.7145128  -0.22893178  0.65370375  0.00263706 -0.49665123\n",
      "  0.3294515  -0.9340078  -1.0505565  -0.41692862 -0.16760153  0.4843019\n",
      " -0.09066677  0.38459018  0.6317088  -0.01140038  0.21387358 -0.4155799\n",
      "  0.3700108   0.41994837  0.76386607  1.2038604  -1.3497131   0.04154102\n",
      "  0.11673267  1.8988721   0.562756    0.90587753 -0.5356713  -1.2741448\n",
      "  0.891079    1.3154703   0.9759078  -1.0537455 ]\n",
      "[-0.00352068  0.00188029  0.002188    0.00451125  0.00907837  0.01258541\n",
      " -0.00615922 -0.00671019  0.01228587  0.00441365 -0.00131453  0.00541132\n",
      " -0.0123985  -0.00374426 -0.00174551  0.00645608 -0.01636988  0.00085352\n",
      " -0.02015396 -0.00519224 -0.00182261  0.0072536   0.00829197 -0.01566938\n",
      " -0.01470398 -0.00299422  0.01087436 -0.01646549  0.00070812  0.00481228\n",
      " -0.01038634  0.00076936 -0.01778143 -0.01505735 -0.00880468 -0.00109011\n",
      " -0.00228664 -0.0019635  -0.00163328 -0.01088653  0.00696079  0.00729985\n",
      "  0.00241555 -0.00326777 -0.00056864  0.00441592  0.00469293 -0.01465217\n",
      "  0.01123938  0.00161647  0.01328096  0.01054821 -0.01149861  0.00297979\n",
      "  0.00043035  0.00071212 -0.00223267 -0.00349331 -0.02421526 -0.01248824\n",
      "  0.01090663 -0.0001323  -0.00295201 -0.0187658  -0.01921022  0.00466362\n",
      "  0.01601504 -0.00179664 -0.00662312  0.00888041  0.00181338  0.00962864\n",
      "  0.00429012 -0.00385828 -0.00899215 -0.00250548 -0.00333335  0.00385556\n",
      " -0.00604423  0.01013457  0.01676145  0.00819488 -0.00223169 -0.00310411\n",
      " -0.00749936  0.01307388  0.00652627 -0.00030049 -0.01160087  0.00939591\n",
      " -0.00579707  0.00331712  0.0106806   0.02049687 -0.00077415 -0.01237939\n",
      " -0.00360055  0.00515842  0.01590293 -0.00714856]\n"
     ]
    }
   ],
   "source": [
    "sentences = w2v.LineSentence('data/doc')\n",
    "model = w2v.Word2Vec(sentences, size=d, window=5, min_count=1, workers=4)\n",
    "\n",
    "# for i, word in enumerate(model.wv.vocab):\n",
    "#     if i == 10:\n",
    "#         break\n",
    "#     print(word)\n",
    "    \n",
    "vec_king = model.wv['赵敏']\n",
    "print(vec_king)\n",
    "\n",
    "vec_king = model.wv['faiss']\n",
    "print(vec_king)"
   ]
  },
  {
   "cell_type": "code",
   "execution_count": null,
   "metadata": {},
   "outputs": [],
   "source": [
    "- custom"
   ]
  },
  {
   "cell_type": "code",
   "execution_count": 86,
   "metadata": {},
   "outputs": [],
   "source": [
    "# sentences = []\n",
    "\n",
    "# fin= open('data/doc','r')\n",
    "# lines=fin.readlines()\n",
    "# fin.close()\n",
    "\n",
    "# for line in lines:\n",
    "#     sentences.append(line.split(' '))\n",
    "\n",
    "# model = w2v.Word2Vec(sentences, size=100, window=5, min_count=1, workers=4)\n",
    "\n",
    "# vec_king = model.wv['赵敏']\n",
    "# vec_king = model.wv['faiss']"
   ]
  },
  {
   "cell_type": "code",
   "execution_count": 91,
   "metadata": {},
   "outputs": [
    {
     "data": {
      "text/plain": [
       "array([[-3.8844287e-02, -7.9822153e-02, -6.4286935e-01, ...,\n",
       "         1.4689138e+00,  1.2589065e+00, -3.7817898e-01],\n",
       "       [-6.2013384e-02,  2.3292923e-01, -1.3664999e+00, ...,\n",
       "         1.5519962e+00,  6.2651545e-01, -1.0101626e+00],\n",
       "       [ 3.7009561e-01,  3.8891220e-01, -3.2963109e-01, ...,\n",
       "         8.2491100e-01,  8.4229994e-01, -1.4636030e+00],\n",
       "       ...,\n",
       "       [-1.9243313e-03, -9.4190700e-04, -5.0089918e-03, ...,\n",
       "         3.6930414e-03,  5.6095924e-03, -5.9602922e-03],\n",
       "       [-4.1823015e-03, -1.7179999e-03, -5.0445027e-03, ...,\n",
       "         6.7700385e-03,  3.6334619e-03, -2.7405194e-03],\n",
       "       [-3.5665394e-03,  2.5329474e-04, -2.9482639e-03, ...,\n",
       "         1.1476077e-02,  1.9189673e-02, -3.3690087e-03]], dtype=float32)"
      ]
     },
     "execution_count": 91,
     "metadata": {},
     "output_type": "execute_result"
    }
   ],
   "source": [
    "model.wv.vectors"
   ]
  },
  {
   "cell_type": "code",
   "execution_count": 103,
   "metadata": {},
   "outputs": [
    {
     "name": "stdout",
     "output_type": "stream",
     "text": [
      "[[-0.00352068  0.00188029  0.002188    0.00451125  0.00907837  0.01258541\n",
      "  -0.00615922 -0.00671019  0.01228587  0.00441365 -0.00131453  0.00541132\n",
      "  -0.0123985  -0.00374426 -0.00174551  0.00645608 -0.01636988  0.00085352\n",
      "  -0.02015396 -0.00519224 -0.00182261  0.0072536   0.00829197 -0.01566938\n",
      "  -0.01470398 -0.00299422  0.01087436 -0.01646549  0.00070812  0.00481228\n",
      "  -0.01038634  0.00076936 -0.01778143 -0.01505735 -0.00880468 -0.00109011\n",
      "  -0.00228664 -0.0019635  -0.00163328 -0.01088653  0.00696079  0.00729985\n",
      "   0.00241555 -0.00326777 -0.00056864  0.00441592  0.00469293 -0.01465217\n",
      "   0.01123938  0.00161647  0.01328096  0.01054821 -0.01149861  0.00297979\n",
      "   0.00043035  0.00071212 -0.00223267 -0.00349331 -0.02421526 -0.01248824\n",
      "   0.01090663 -0.0001323  -0.00295201 -0.0187658  -0.01921022  0.00466362\n",
      "   0.01601504 -0.00179664 -0.00662312  0.00888041  0.00181338  0.00962864\n",
      "   0.00429012 -0.00385828 -0.00899215 -0.00250548 -0.00333335  0.00385556\n",
      "  -0.00604423  0.01013457  0.01676145  0.00819488 -0.00223169 -0.00310411\n",
      "  -0.00749936  0.01307388  0.00652627 -0.00030049 -0.01160087  0.00939591\n",
      "  -0.00579707  0.00331712  0.0106806   0.02049687 -0.00077415 -0.01237939\n",
      "  -0.00360055  0.00515842  0.01590293 -0.00714856]]\n"
     ]
    }
   ],
   "source": [
    "import numpy as np\n",
    "\n",
    "np_query_vector1=np.reshape(np.array(model.wv.get_vector('faiss')),(1,d))\n",
    "print(np_query_vector1)"
   ]
  },
  {
   "cell_type": "code",
   "execution_count": 104,
   "metadata": {},
   "outputs": [
    {
     "name": "stdout",
     "output_type": "stream",
     "text": [
      "True\n",
      "47276\n",
      "[[22452 24703 36949 31226 26374 43882]]\n",
      "[[22452 24703 36949 31226 26374 43882]]\n"
     ]
    }
   ],
   "source": [
    "import faiss\n",
    "index = faiss.IndexFlatL2(d)        # 构建FlatL2索引\n",
    "\n",
    "print(index.is_trained)\n",
    "index.add(model.wv.vectors)         # 向索引中添加向量\n",
    "print(index.ntotal)\n",
    "\n",
    "k = 6                               # k=4的 k邻近搜索\n",
    "D, I = index.search(np_query_vector1, k)          # 执行搜索\n",
    "print(I[:5])                        # 最初五次查询的结果\n",
    "print(I[-5:])                       # 最后五次查询的结果"
   ]
  },
  {
   "cell_type": "code",
   "execution_count": null,
   "metadata": {},
   "outputs": [],
   "source": []
  }
 ],
 "metadata": {
  "kernelspec": {
   "display_name": "Python 3",
   "language": "python",
   "name": "python3"
  },
  "language_info": {
   "codemirror_mode": {
    "name": "ipython",
    "version": 3
   },
   "file_extension": ".py",
   "mimetype": "text/x-python",
   "name": "python",
   "nbconvert_exporter": "python",
   "pygments_lexer": "ipython3",
   "version": "3.7.5"
  }
 },
 "nbformat": 4,
 "nbformat_minor": 2
}
